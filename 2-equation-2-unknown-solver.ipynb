{
 "cells": [
  {
   "cell_type": "code",
   "execution_count": 15,
   "id": "9998fa02",
   "metadata": {},
   "outputs": [],
   "source": [
    "import numpy as np\n",
    "import pandas as pd\n"
   ]
  },
  {
   "cell_type": "markdown",
   "id": "49b5a33d",
   "metadata": {},
   "source": [
    "### function for init the population "
   ]
  },
  {
   "cell_type": "code",
   "execution_count": null,
   "id": "5a61af2a",
   "metadata": {},
   "outputs": [],
   "source": [
    "def init_random_population(population_size=1000,seed=42):\n",
    "    \"\"\"\n",
    "    this function return 2*10000 sample population\n",
    "    \"\"\"\n",
    "    np.random.seed(seed)\n",
    "    x=np.random.uniform(np.iinfo(np.int32).min,np.iinfo(np.int32).max,population_size)\n",
    "    y=np.random.uniform(np.iinfo(np.int32).min,np.iinfo(np.int32).max,population_size)\n",
    "    population=np.column_stack((x,y))\n",
    "    return population\n",
    "\n",
    "\n"
   ]
  },
  {
   "cell_type": "markdown",
   "id": "faf4556e",
   "metadata": {},
   "source": [
    "### function that compute the fitness of all people in population"
   ]
  },
  {
   "cell_type": "code",
   "execution_count": 21,
   "id": "db5e704b",
   "metadata": {},
   "outputs": [],
   "source": [
    "def fitness_total(data,equation1:dict,equation2:dict,population_size):\n",
    "    x=data[:,0]\n",
    "    y=data[:,1]\n",
    "\n",
    "    loss1=np.abs(equation1['a1']*x+equation1['b1']*y+equation1['c1'])\n",
    "    loss2=np.abs(equation2['a2']*x+equation2['b2']*y+equation2['c2'])\n",
    "    return loss1+loss2"
   ]
  },
  {
   "cell_type": "markdown",
   "id": "0e39a40d",
   "metadata": {},
   "source": [
    "### select parent for the next generation"
   ]
  },
  {
   "cell_type": "code",
   "execution_count": 22,
   "id": "e0ab1c61",
   "metadata": {},
   "outputs": [],
   "source": [
    "def select_parents_roulette(\n",
    "        population:np.ndarray,\n",
    "        fitness:np.ndarray,\n",
    "        num_parent:int\n",
    "):\n",
    "    \"\"\"\n",
    "    population is (n,2) np array that it the representation of the populatino\n",
    "    fitness: is (n,) np array that is represent the fitness for each people\n",
    "    num_parent detect the number of parent that we use\n",
    "    \"\"\"\n",
    "    score=1/(1+fitness)\n",
    "    p=score/np.sum(score)\n",
    "    index_choose=np.random.choice(len(population),size=num_parent,p=p)\n",
    "    return population[index_choose]"
   ]
  },
  {
   "cell_type": "markdown",
   "id": "c6407060",
   "metadata": {},
   "source": [
    "# the abstrac function of how this algorithm work"
   ]
  },
  {
   "cell_type": "code",
   "execution_count": null,
   "id": "368ff96e",
   "metadata": {},
   "outputs": [],
   "source": [
    "def solve_2_quation_2_umknown(a1,b1,c1,a2,b2,c2):\n",
    "    \"\"\"\n",
    "    this function get 2 equation like this:\n",
    "    a1x+b1y+c1=0 , a2x+b2y+c2=0\n",
    "    \n",
    "\n",
    "\n",
    "    \"\"\"\n",
    "    equation1={\n",
    "        'a1':a1,'b1':b1,'c1':c1\n",
    "    }\n",
    "    equation2={\n",
    "        'a2':a2,'b2':b2,'c2':c2\n",
    "    }\n",
    "    population_size=1000\n",
    "    data=init_random_population(population_size,seed=42) # create random 2*10000 population\n",
    "    fitness=fitness_total(data,equation1,equation2,population_size) # compute the fitness of all population\n",
    "    selected_parents=select_parents_roulette(data,fitness,2*population_size) # chose random base probability parent for the next generation\n",
    "    \n",
    "\n"
   ]
  },
  {
   "cell_type": "code",
   "execution_count": null,
   "id": "987ac02b",
   "metadata": {},
   "outputs": [],
   "source": []
  },
  {
   "cell_type": "code",
   "execution_count": null,
   "id": "135276a5",
   "metadata": {},
   "outputs": [],
   "source": []
  }
 ],
 "metadata": {
  "kernelspec": {
   "display_name": "Python 3",
   "language": "python",
   "name": "python3"
  },
  "language_info": {
   "codemirror_mode": {
    "name": "ipython",
    "version": 3
   },
   "file_extension": ".py",
   "mimetype": "text/x-python",
   "name": "python",
   "nbconvert_exporter": "python",
   "pygments_lexer": "ipython3",
   "version": "3.13.3"
  }
 },
 "nbformat": 4,
 "nbformat_minor": 5
}
